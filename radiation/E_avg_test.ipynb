{
 "cells": [
  {
   "cell_type": "code",
   "execution_count": 39,
   "metadata": {
    "collapsed": false
   },
   "outputs": [],
   "source": [
    "%matplotlib inline\n",
    "import numpy as np\n",
    "from astropy import units as u\n",
    "import matplotlib.pyplot as plt\n",
    "from onezone import radiation as rad\n",
    "\n",
    "E_hi  = (13.6 * u.eV).to(u.erg)\n",
    "E_hei = (24.5874 * u.eV).to(u.erg)\n",
    "E_heii = (55.51776* u.eV).to(u.erg)\n",
    "         \n",
    "T  = np.linspace(10000.0, 70000.0, 4000.0)"
   ]
  },
  {
   "cell_type": "code",
   "execution_count": 40,
   "metadata": {
    "collapsed": true
   },
   "outputs": [],
   "source": [
    "hi_crs = np.zeros(np.size(T))\n",
    "hei_crs = np.zeros(np.size(T))\n",
    "heii_crs = np.zeros(np.size(T))\n",
    "\n",
    "for i in np.arange(np.size(T)):\n",
    "\n",
    "    hi_crs[i]  = (rad.average_energy(E_hi.value, T[i])*u.erg).to(u.eV).value\n",
    "    hei_crs[i] = (rad.average_energy(E_hei.value, T[i])*u.erg).to(u.eV).value\n",
    "    heii_crs[i] = (rad.average_energy(E_heii.value, T[i])*u.erg).to(u.eV).value"
   ]
  },
  {
   "cell_type": "code",
   "execution_count": 41,
   "metadata": {
    "collapsed": false
   },
   "outputs": [],
   "source": [
    "hi_data = np.genfromtxt(\"data/ostar2002_sed/ostar2002_E_avg_hi_all_models.dat\")\n",
    "hei_data = np.genfromtxt(\"data/ostar2002_sed/ostar2002_E_avg_hei_all_models.dat\")\n",
    "heii_data = np.genfromtxt(\"data/ostar2002_sed/ostar2002_E_avg_heii_all_models.dat\")"
   ]
  },
  {
   "cell_type": "code",
   "execution_count": 42,
   "metadata": {
    "collapsed": false
   },
   "outputs": [
    {
     "data": {
      "image/png": "[encoded data removed]",
      "text/plain": [
       "<matplotlib.figure.Figure at 0x7f4628c3b090>"
      ]
     },
     "metadata": {},
     "output_type": "display_data"
    }
   ],
   "source": [
    "plt.plot(T, hi_crs, color = 'black', ls = '-', label = 'HI', lw = 3)\n",
    "plt.plot(T, hei_crs, color = 'black', ls = '--', label = 'HeI', lw = 3)\n",
    "plt.plot(T, heii_crs, color = 'black', ls = ':', label = 'HeII', lw = 3)\n",
    "\n",
    "plt.ylabel('Average Ionizing Photon Energy')\n",
    "plt.xlabel('Temperature (K)')\n",
    "plt.legend(loc='best')\n",
    "plt.xlim(np.min(T), np.max(T))\n",
    "plt.ylim(0.0, 80.0)\n",
    "\n",
    "for tval in np.arange(27500.0, 55001.0, 2500.0):\n",
    "    selection = hi_data[:,0] == tval\n",
    "    data = hi_data[selection]\n",
    "    \n",
    "    E_avg = 0.0\n",
    "    counter = 0.0\n",
    "    for i in np.arange(9):\n",
    "        \n",
    "        E_avg += np.average(hi_data[i][2:])\n",
    "\n",
    "        if np.average(hi_data[i][2:]) > 10.0:\n",
    "            counter += 1.0\n",
    "        \n",
    "    E_avg = E_avg / counter\n",
    "    \n",
    "    plt.scatter(tval, E_avg, color = 'black')\n",
    "    \n",
    "for tval in np.arange(27500.0, 55001.0, 2500.0):\n",
    "    selection = hei_data[:,0] == tval\n",
    "    data = hei_data[selection]\n",
    "    \n",
    "    E_avg = 0.0\n",
    "    counter = 0.0\n",
    "    for i in np.arange(9):\n",
    "        \n",
    "        E_avg += np.average(hei_data[i][2:])\n",
    "\n",
    "        if np.average(hei_data[i][2:]) > 10.0:\n",
    "            counter += 1.0\n",
    "        \n",
    "    E_avg = E_avg / counter\n",
    "    \n",
    "    plt.scatter(tval, E_avg, color = 'blue')\n",
    "    \n",
    "for tval in np.arange(27500.0, 55001.0, 2500.0):\n",
    "    selection = heii_data[:,0] == tval\n",
    "    data = hei_data[selection]\n",
    "    \n",
    "    E_avg = 0.0\n",
    "    counter = 0.0\n",
    "    for i in np.arange(9):\n",
    "        \n",
    "        E_avg += np.average(heii_data[i][2:])\n",
    "\n",
    "        if np.average(heii_data[i][2:]) > 10.0:\n",
    "            counter += 1.0\n",
    "        \n",
    "    E_avg = E_avg / counter\n",
    "    \n",
    "    plt.scatter(tval, E_avg, color = 'red')\n",
    "    "
   ]
  },
  {
   "cell_type": "code",
   "execution_count": 30,
   "metadata": {
    "collapsed": false
   },
   "outputs": [
    {
     "data": {
      "text/plain": [
       "15.691590000000001"
      ]
     },
     "execution_count": 30,
     "metadata": {},
     "output_type": "execute_result"
    }
   ],
   "source": [
    "np.average(hi_data[3][2:])\n"
   ]
  },
  {
   "cell_type": "code",
   "execution_count": null,
   "metadata": {
    "collapsed": true
   },
   "outputs": [],
   "source": []
  }
 ],
 "metadata": {
  "kernelspec": {
   "display_name": "Python 2",
   "language": "python",
   "name": "python2"
  },
  "language_info": {
   "codemirror_mode": {
    "name": "ipython",
    "version": 2
   },
   "file_extension": ".py",
   "mimetype": "text/x-python",
   "name": "python",
   "nbconvert_exporter": "python",
   "pygments_lexer": "ipython2",
   "version": "2.7.11"
  }
 },
 "nbformat": 4,
 "nbformat_minor": 0
}
