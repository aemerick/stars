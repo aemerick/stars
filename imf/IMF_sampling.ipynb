{
 "cells": [
  {
   "cell_type": "code",
   "execution_count": 2,
   "metadata": {
    "collapsed": false
   },
   "outputs": [],
   "source": [
    "%matplotlib inline\n",
    "import numpy as np\n",
    "import matplotlib.pyplot as plt\n",
    "#import imf"
   ]
  },
  {
   "cell_type": "code",
   "execution_count": 3,
   "metadata": {
    "collapsed": true
   },
   "outputs": [],
   "source": [
    "def salpeter(M, alpha=2.35, xi_o=1.0):\n",
    "    return xi_o * M**(1.0 - alpha)\n",
    "\n",
    "\n",
    "def sample_IMF(N, IMF,  M_min = 0.1, M_max = 100.0, npoints = 1000, **kwargs):\n",
    "\n",
    "    # bin IMF in logspace\n",
    "    dm = np.log10(M_max / M_min) / (1.0*(npoints - 1))\n",
    "\n",
    "    # m_o\n",
    "    m_o = np.log10(M_min)\n",
    "\n",
    "    i = np.arange(0, npoints)\n",
    "    # cumulative probability density\n",
    "    m        = 10.0**(m_o + i*dm)\n",
    "    total_fn = IMF(m) \n",
    "    \n",
    "    total_fn = np.cumsum(total_fn)\n",
    "    total_fn = total_fn / (1.0* total_fn[-1])\n",
    "    IMF_vals = total_fn\n",
    "    # determine mass sample points\n",
    "    #M_sample = np.logspace(M_min, M_max, npoints)\n",
    " \n",
    "    # sample the IMF \n",
    "    #IMF_vals = IMF(M_sample, **kwargs)\n",
    "    #IMF_vals = IMF_vals / (1.0*np.sum(IMF_vals))\n",
    "    #IMF_vals = np.cumsum(IMF_vals)\n",
    "\n",
    "    # normalize to one\n",
    "\n",
    "\n",
    "    random_numbers = np.random.rand(N)\n",
    "    # now sample\n",
    "\n",
    "\n",
    "   # print IMF_vals\n",
    "    # do a bisect search for each number\n",
    "    mass_sample = np.zeros(N)\n",
    "\n",
    "    for i in np.arange(N):\n",
    "        bin_number = npoints / 2\n",
    "        width = npoints / 2 \n",
    "        while ( width > 1):\n",
    "            width = width / 2\n",
    "            if (random_numbers[i] > IMF_vals[bin_number]):\n",
    "                bin_number = bin_number + width\n",
    "            elif (random_numbers[i] < IMF_vals[bin_number]):\n",
    "                bin_number = bin_number - width\n",
    "        \n",
    "          #  print random_numbers[i], IMF_vals[bin_number], bin_number, width\n",
    "            \n",
    "       # print i\n",
    "        mass_sample[i] = 10.0**(bin_number *dm)\n",
    "            \n",
    "\n",
    "    return mass_sample"
   ]
  },
  {
   "cell_type": "code",
   "execution_count": 4,
   "metadata": {
    "collapsed": true
   },
   "outputs": [],
   "source": [
    "M_min   = 1.0\n",
    "M_max   = 100.0\n",
    "npoints = 100\n",
    "M       = np.logspace(np.log10(M_min), np.log10(M_max), npoints)\n",
    "IMF     = salpeter(M)\n"
   ]
  },
  {
   "cell_type": "code",
   "execution_count": 22,
   "metadata": {
    "collapsed": false
   },
   "outputs": [],
   "source": [
    "# attempt at sampling\n",
    "N_stars  = 10000\n",
    "M_sample = sample_IMF(N_stars, salpeter, M_min = M_min, M_max = M_max, npoints = 1000)\n",
    "\n",
    "# now get a histogram of M_sample\n",
    "npoints  = 25\n",
    "bins     = np.logspace(np.log10(M_min), np.log10(M_max), npoints)\n",
    "M_hist, bins   = np.histogram(M_sample, bins = bins)\n",
    "centers  = 0.5*(bins[1:] + bins[0:-1])\n",
    "\n",
    "A = N_stars * (1.0-2.35+1) / (1.0/(M_max)**(1.0-2.35+1) - 1.0/(M_min)**(1.0-2.35+1))\n"
   ]
  },
  {
   "cell_type": "code",
   "execution_count": 23,
   "metadata": {
    "collapsed": false
   },
   "outputs": [
    {
     "data": {
      "text/plain": [
       "[]"
      ]
     },
     "execution_count": 23,
     "metadata": {},
     "output_type": "execute_result"
    },
    {
     "data": {
      "image/png": "[encoded data removed]",
      "text/plain": [
       "<matplotlib.figure.Figure at 0x7f21208a9810>"
      ]
     },
     "metadata": {},
     "output_type": "display_data"
    }
   ],
   "source": [
    "plt.plot(M, 1.0E5*IMF, lw = 3, label = 'Salpeter Actual')\n",
    "\n",
    "plt.plot(centers, M_hist, color = 'red')\n",
    "\n",
    "plt.loglog()"
   ]
  },
  {
   "cell_type": "code",
   "execution_count": 7,
   "metadata": {
    "collapsed": false
   },
   "outputs": [
    {
     "name": "stdout",
     "output_type": "stream",
     "text": [
      "-872.410611962\n"
     ]
    }
   ],
   "source": [
    "print A"
   ]
  },
  {
   "cell_type": "code",
   "execution_count": null,
   "metadata": {
    "collapsed": true
   },
   "outputs": [],
   "source": []
  }
 ],
 "metadata": {
  "kernelspec": {
   "display_name": "Python 2",
   "language": "python",
   "name": "python2"
  },
  "language_info": {
   "codemirror_mode": {
    "name": "ipython",
    "version": 2
   },
   "file_extension": ".py",
   "mimetype": "text/x-python",
   "name": "python",
   "nbconvert_exporter": "python",
   "pygments_lexer": "ipython2",
   "version": "2.7.11"
  }
 },
 "nbformat": 4,
 "nbformat_minor": 0
}
